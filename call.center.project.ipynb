{
 "cells": [
  {
   "cell_type": "code",
   "execution_count": 2,
   "id": "2dc0e972-f7e5-4bb1-93e0-6ae326221087",
   "metadata": {},
   "outputs": [],
   "source": [
    "import pandas as pd\n",
    "import numpy as np\n",
    "import matplotlib.pyplot as plt\n",
    "import seaborn as sns"
   ]
  },
  {
   "cell_type": "code",
   "execution_count": 6,
   "id": "0649cc7a-2cf2-4ed2-878c-3ea0e78400c5",
   "metadata": {},
   "outputs": [],
   "source": [
    "import pandas as pd\n",
    "\n",
    "df = pd.read_excel(r\"C:\\Users\\godaw\\Downloads\\Call_Center.xlsx\")\n"
   ]
  },
  {
   "cell_type": "code",
   "execution_count": 7,
   "id": "d21737e7-b383-4cf5-9f4d-7ddfb75e7ced",
   "metadata": {},
   "outputs": [
    {
     "data": {
      "text/html": [
       "<div>\n",
       "<style scoped>\n",
       "    .dataframe tbody tr th:only-of-type {\n",
       "        vertical-align: middle;\n",
       "    }\n",
       "\n",
       "    .dataframe tbody tr th {\n",
       "        vertical-align: top;\n",
       "    }\n",
       "\n",
       "    .dataframe thead th {\n",
       "        text-align: right;\n",
       "    }\n",
       "</style>\n",
       "<table border=\"1\" class=\"dataframe\">\n",
       "  <thead>\n",
       "    <tr style=\"text-align: right;\">\n",
       "      <th></th>\n",
       "      <th>Call Id</th>\n",
       "      <th>Agent</th>\n",
       "      <th>Date</th>\n",
       "      <th>Time</th>\n",
       "      <th>Topic</th>\n",
       "      <th>Answered (Y/N)</th>\n",
       "      <th>Resolved</th>\n",
       "      <th>Speed of answer in seconds</th>\n",
       "      <th>AvgTalkDuration</th>\n",
       "      <th>Satisfaction rating</th>\n",
       "    </tr>\n",
       "  </thead>\n",
       "  <tbody>\n",
       "    <tr>\n",
       "      <th>0</th>\n",
       "      <td>ID0001</td>\n",
       "      <td>Diane</td>\n",
       "      <td>2021-01-01</td>\n",
       "      <td>09:12:58</td>\n",
       "      <td>Contract related</td>\n",
       "      <td>Y</td>\n",
       "      <td>Y</td>\n",
       "      <td>109.0</td>\n",
       "      <td>00:02:23</td>\n",
       "      <td>3.0</td>\n",
       "    </tr>\n",
       "    <tr>\n",
       "      <th>1</th>\n",
       "      <td>ID0002</td>\n",
       "      <td>Becky</td>\n",
       "      <td>2021-01-01</td>\n",
       "      <td>09:12:58</td>\n",
       "      <td>Technical Support</td>\n",
       "      <td>Y</td>\n",
       "      <td>N</td>\n",
       "      <td>70.0</td>\n",
       "      <td>00:04:02</td>\n",
       "      <td>3.0</td>\n",
       "    </tr>\n",
       "    <tr>\n",
       "      <th>2</th>\n",
       "      <td>ID0003</td>\n",
       "      <td>Stewart</td>\n",
       "      <td>2021-01-01</td>\n",
       "      <td>09:47:31</td>\n",
       "      <td>Contract related</td>\n",
       "      <td>Y</td>\n",
       "      <td>Y</td>\n",
       "      <td>10.0</td>\n",
       "      <td>00:02:11</td>\n",
       "      <td>3.0</td>\n",
       "    </tr>\n",
       "    <tr>\n",
       "      <th>3</th>\n",
       "      <td>ID0004</td>\n",
       "      <td>Greg</td>\n",
       "      <td>2021-01-01</td>\n",
       "      <td>09:47:31</td>\n",
       "      <td>Contract related</td>\n",
       "      <td>Y</td>\n",
       "      <td>Y</td>\n",
       "      <td>53.0</td>\n",
       "      <td>00:00:37</td>\n",
       "      <td>2.0</td>\n",
       "    </tr>\n",
       "    <tr>\n",
       "      <th>4</th>\n",
       "      <td>ID0005</td>\n",
       "      <td>Becky</td>\n",
       "      <td>2021-01-01</td>\n",
       "      <td>10:00:29</td>\n",
       "      <td>Payment related</td>\n",
       "      <td>Y</td>\n",
       "      <td>Y</td>\n",
       "      <td>95.0</td>\n",
       "      <td>00:01:00</td>\n",
       "      <td>3.0</td>\n",
       "    </tr>\n",
       "    <tr>\n",
       "      <th>...</th>\n",
       "      <td>...</td>\n",
       "      <td>...</td>\n",
       "      <td>...</td>\n",
       "      <td>...</td>\n",
       "      <td>...</td>\n",
       "      <td>...</td>\n",
       "      <td>...</td>\n",
       "      <td>...</td>\n",
       "      <td>...</td>\n",
       "      <td>...</td>\n",
       "    </tr>\n",
       "    <tr>\n",
       "      <th>4995</th>\n",
       "      <td>ID4996</td>\n",
       "      <td>Jim</td>\n",
       "      <td>2021-03-31</td>\n",
       "      <td>16:37:55</td>\n",
       "      <td>Payment related</td>\n",
       "      <td>Y</td>\n",
       "      <td>Y</td>\n",
       "      <td>22.0</td>\n",
       "      <td>00:05:40</td>\n",
       "      <td>1.0</td>\n",
       "    </tr>\n",
       "    <tr>\n",
       "      <th>4996</th>\n",
       "      <td>ID4997</td>\n",
       "      <td>Diane</td>\n",
       "      <td>2021-03-31</td>\n",
       "      <td>16:45:07</td>\n",
       "      <td>Payment related</td>\n",
       "      <td>Y</td>\n",
       "      <td>Y</td>\n",
       "      <td>100.0</td>\n",
       "      <td>00:03:16</td>\n",
       "      <td>3.0</td>\n",
       "    </tr>\n",
       "    <tr>\n",
       "      <th>4997</th>\n",
       "      <td>ID4998</td>\n",
       "      <td>Diane</td>\n",
       "      <td>2021-03-31</td>\n",
       "      <td>16:53:46</td>\n",
       "      <td>Payment related</td>\n",
       "      <td>Y</td>\n",
       "      <td>Y</td>\n",
       "      <td>84.0</td>\n",
       "      <td>00:01:49</td>\n",
       "      <td>4.0</td>\n",
       "    </tr>\n",
       "    <tr>\n",
       "      <th>4998</th>\n",
       "      <td>ID4999</td>\n",
       "      <td>Jim</td>\n",
       "      <td>2021-03-31</td>\n",
       "      <td>17:02:24</td>\n",
       "      <td>Streaming</td>\n",
       "      <td>Y</td>\n",
       "      <td>Y</td>\n",
       "      <td>98.0</td>\n",
       "      <td>00:00:58</td>\n",
       "      <td>5.0</td>\n",
       "    </tr>\n",
       "    <tr>\n",
       "      <th>4999</th>\n",
       "      <td>ID5000</td>\n",
       "      <td>Diane</td>\n",
       "      <td>2021-03-31</td>\n",
       "      <td>17:39:50</td>\n",
       "      <td>Contract related</td>\n",
       "      <td>N</td>\n",
       "      <td>N</td>\n",
       "      <td>NaN</td>\n",
       "      <td>NaN</td>\n",
       "      <td>NaN</td>\n",
       "    </tr>\n",
       "  </tbody>\n",
       "</table>\n",
       "<p>5000 rows × 10 columns</p>\n",
       "</div>"
      ],
      "text/plain": [
       "     Call Id    Agent        Date      Time              Topic Answered (Y/N)  \\\n",
       "0     ID0001    Diane  2021-01-01  09:12:58   Contract related              Y   \n",
       "1     ID0002    Becky  2021-01-01  09:12:58  Technical Support              Y   \n",
       "2     ID0003  Stewart  2021-01-01  09:47:31   Contract related              Y   \n",
       "3     ID0004     Greg  2021-01-01  09:47:31   Contract related              Y   \n",
       "4     ID0005    Becky  2021-01-01  10:00:29    Payment related              Y   \n",
       "...      ...      ...         ...       ...                ...            ...   \n",
       "4995  ID4996      Jim  2021-03-31  16:37:55    Payment related              Y   \n",
       "4996  ID4997    Diane  2021-03-31  16:45:07    Payment related              Y   \n",
       "4997  ID4998    Diane  2021-03-31  16:53:46    Payment related              Y   \n",
       "4998  ID4999      Jim  2021-03-31  17:02:24          Streaming              Y   \n",
       "4999  ID5000    Diane  2021-03-31  17:39:50   Contract related              N   \n",
       "\n",
       "     Resolved  Speed of answer in seconds AvgTalkDuration  Satisfaction rating  \n",
       "0           Y                       109.0        00:02:23                  3.0  \n",
       "1           N                        70.0        00:04:02                  3.0  \n",
       "2           Y                        10.0        00:02:11                  3.0  \n",
       "3           Y                        53.0        00:00:37                  2.0  \n",
       "4           Y                        95.0        00:01:00                  3.0  \n",
       "...       ...                         ...             ...                  ...  \n",
       "4995        Y                        22.0        00:05:40                  1.0  \n",
       "4996        Y                       100.0        00:03:16                  3.0  \n",
       "4997        Y                        84.0        00:01:49                  4.0  \n",
       "4998        Y                        98.0        00:00:58                  5.0  \n",
       "4999        N                         NaN             NaN                  NaN  \n",
       "\n",
       "[5000 rows x 10 columns]"
      ]
     },
     "execution_count": 7,
     "metadata": {},
     "output_type": "execute_result"
    }
   ],
   "source": [
    "df"
   ]
  },
  {
   "cell_type": "code",
   "execution_count": 11,
   "id": "4ff760c2-2d70-41e6-8b3d-d5be35474728",
   "metadata": {},
   "outputs": [
    {
     "data": {
      "text/plain": [
       "<bound method NDFrame.head of      Call Id    Agent        Date      Time              Topic Answered (Y/N)  \\\n",
       "0     ID0001    Diane  2021-01-01  09:12:58   Contract related              Y   \n",
       "1     ID0002    Becky  2021-01-01  09:12:58  Technical Support              Y   \n",
       "2     ID0003  Stewart  2021-01-01  09:47:31   Contract related              Y   \n",
       "3     ID0004     Greg  2021-01-01  09:47:31   Contract related              Y   \n",
       "4     ID0005    Becky  2021-01-01  10:00:29    Payment related              Y   \n",
       "...      ...      ...         ...       ...                ...            ...   \n",
       "4995  ID4996      Jim  2021-03-31  16:37:55    Payment related              Y   \n",
       "4996  ID4997    Diane  2021-03-31  16:45:07    Payment related              Y   \n",
       "4997  ID4998    Diane  2021-03-31  16:53:46    Payment related              Y   \n",
       "4998  ID4999      Jim  2021-03-31  17:02:24          Streaming              Y   \n",
       "4999  ID5000    Diane  2021-03-31  17:39:50   Contract related              N   \n",
       "\n",
       "     Resolved  Speed of answer in seconds AvgTalkDuration  Satisfaction rating  \n",
       "0           Y                       109.0        00:02:23                  3.0  \n",
       "1           N                        70.0        00:04:02                  3.0  \n",
       "2           Y                        10.0        00:02:11                  3.0  \n",
       "3           Y                        53.0        00:00:37                  2.0  \n",
       "4           Y                        95.0        00:01:00                  3.0  \n",
       "...       ...                         ...             ...                  ...  \n",
       "4995        Y                        22.0        00:05:40                  1.0  \n",
       "4996        Y                       100.0        00:03:16                  3.0  \n",
       "4997        Y                        84.0        00:01:49                  4.0  \n",
       "4998        Y                        98.0        00:00:58                  5.0  \n",
       "4999        N                         NaN             NaN                  NaN  \n",
       "\n",
       "[5000 rows x 10 columns]>"
      ]
     },
     "execution_count": 11,
     "metadata": {},
     "output_type": "execute_result"
    }
   ],
   "source": [
    "df.head"
   ]
  },
  {
   "cell_type": "code",
   "execution_count": 12,
   "id": "3032db83-ffdc-4137-950f-33afd695d84a",
   "metadata": {},
   "outputs": [
    {
     "data": {
      "text/html": [
       "<div>\n",
       "<style scoped>\n",
       "    .dataframe tbody tr th:only-of-type {\n",
       "        vertical-align: middle;\n",
       "    }\n",
       "\n",
       "    .dataframe tbody tr th {\n",
       "        vertical-align: top;\n",
       "    }\n",
       "\n",
       "    .dataframe thead th {\n",
       "        text-align: right;\n",
       "    }\n",
       "</style>\n",
       "<table border=\"1\" class=\"dataframe\">\n",
       "  <thead>\n",
       "    <tr style=\"text-align: right;\">\n",
       "      <th></th>\n",
       "      <th>Speed of answer in seconds</th>\n",
       "      <th>Satisfaction rating</th>\n",
       "    </tr>\n",
       "  </thead>\n",
       "  <tbody>\n",
       "    <tr>\n",
       "      <th>count</th>\n",
       "      <td>4054.000000</td>\n",
       "      <td>4054.000000</td>\n",
       "    </tr>\n",
       "    <tr>\n",
       "      <th>mean</th>\n",
       "      <td>67.520720</td>\n",
       "      <td>3.403552</td>\n",
       "    </tr>\n",
       "    <tr>\n",
       "      <th>std</th>\n",
       "      <td>33.592872</td>\n",
       "      <td>1.212220</td>\n",
       "    </tr>\n",
       "    <tr>\n",
       "      <th>min</th>\n",
       "      <td>10.000000</td>\n",
       "      <td>1.000000</td>\n",
       "    </tr>\n",
       "    <tr>\n",
       "      <th>25%</th>\n",
       "      <td>39.000000</td>\n",
       "      <td>3.000000</td>\n",
       "    </tr>\n",
       "    <tr>\n",
       "      <th>50%</th>\n",
       "      <td>68.000000</td>\n",
       "      <td>3.000000</td>\n",
       "    </tr>\n",
       "    <tr>\n",
       "      <th>75%</th>\n",
       "      <td>97.000000</td>\n",
       "      <td>4.000000</td>\n",
       "    </tr>\n",
       "    <tr>\n",
       "      <th>max</th>\n",
       "      <td>125.000000</td>\n",
       "      <td>5.000000</td>\n",
       "    </tr>\n",
       "  </tbody>\n",
       "</table>\n",
       "</div>"
      ],
      "text/plain": [
       "       Speed of answer in seconds  Satisfaction rating\n",
       "count                 4054.000000          4054.000000\n",
       "mean                    67.520720             3.403552\n",
       "std                     33.592872             1.212220\n",
       "min                     10.000000             1.000000\n",
       "25%                     39.000000             3.000000\n",
       "50%                     68.000000             3.000000\n",
       "75%                     97.000000             4.000000\n",
       "max                    125.000000             5.000000"
      ]
     },
     "execution_count": 12,
     "metadata": {},
     "output_type": "execute_result"
    }
   ],
   "source": [
    "df.describe()"
   ]
  },
  {
   "cell_type": "code",
   "execution_count": 14,
   "id": "e1ce4ac5-7fc9-4289-8237-5a63a53becb8",
   "metadata": {},
   "outputs": [
    {
     "name": "stdout",
     "output_type": "stream",
     "text": [
      "<class 'pandas.core.frame.DataFrame'>\n",
      "RangeIndex: 5000 entries, 0 to 4999\n",
      "Data columns (total 10 columns):\n",
      " #   Column                      Non-Null Count  Dtype  \n",
      "---  ------                      --------------  -----  \n",
      " 0   Call Id                     5000 non-null   object \n",
      " 1   Agent                       5000 non-null   object \n",
      " 2   Date                        5000 non-null   object \n",
      " 3   Time                        5000 non-null   object \n",
      " 4   Topic                       5000 non-null   object \n",
      " 5   Answered (Y/N)              5000 non-null   object \n",
      " 6   Resolved                    5000 non-null   object \n",
      " 7   Speed of answer in seconds  4054 non-null   float64\n",
      " 8   AvgTalkDuration             4054 non-null   object \n",
      " 9   Satisfaction rating         4054 non-null   float64\n",
      "dtypes: float64(2), object(8)\n",
      "memory usage: 390.8+ KB\n"
     ]
    }
   ],
   "source": [
    "df.info()"
   ]
  },
  {
   "cell_type": "code",
   "execution_count": 15,
   "id": "a608b0dd-00e6-4a2d-9f85-dd67368c81cd",
   "metadata": {},
   "outputs": [
    {
     "data": {
      "text/plain": [
       "Call Id                         0\n",
       "Agent                           0\n",
       "Date                            0\n",
       "Time                            0\n",
       "Topic                           0\n",
       "Answered (Y/N)                  0\n",
       "Resolved                        0\n",
       "Speed of answer in seconds    946\n",
       "AvgTalkDuration               946\n",
       "Satisfaction rating           946\n",
       "dtype: int64"
      ]
     },
     "execution_count": 15,
     "metadata": {},
     "output_type": "execute_result"
    }
   ],
   "source": [
    "df.isnull().sum()"
   ]
  },
  {
   "cell_type": "code",
   "execution_count": 16,
   "id": "d084ae97-b314-48a2-abd5-319944a0f103",
   "metadata": {},
   "outputs": [],
   "source": [
    "df.dropna(inplace=True)"
   ]
  },
  {
   "cell_type": "code",
   "execution_count": 17,
   "id": "9bcd4452-e06d-4b12-82d5-c853123534ad",
   "metadata": {},
   "outputs": [
    {
     "data": {
      "text/plain": [
       "Call Id                       0\n",
       "Agent                         0\n",
       "Date                          0\n",
       "Time                          0\n",
       "Topic                         0\n",
       "Answered (Y/N)                0\n",
       "Resolved                      0\n",
       "Speed of answer in seconds    0\n",
       "AvgTalkDuration               0\n",
       "Satisfaction rating           0\n",
       "dtype: int64"
      ]
     },
     "execution_count": 17,
     "metadata": {},
     "output_type": "execute_result"
    }
   ],
   "source": [
    "df.isnull().sum()"
   ]
  },
  {
   "cell_type": "code",
   "execution_count": 18,
   "id": "59ba1b3f-2a73-4817-a533-bd0943e893c3",
   "metadata": {},
   "outputs": [
    {
     "data": {
      "text/plain": [
       "4054"
      ]
     },
     "execution_count": 18,
     "metadata": {},
     "output_type": "execute_result"
    }
   ],
   "source": [
    "len(df)"
   ]
  },
  {
   "cell_type": "code",
   "execution_count": 19,
   "id": "b2d7ec40-4b42-4663-a765-9e84edb29cbf",
   "metadata": {},
   "outputs": [
    {
     "data": {
      "text/plain": [
       "Index(['Call Id', 'Agent', 'Date', 'Time', 'Topic', 'Answered (Y/N)',\n",
       "       'Resolved', 'Speed of answer in seconds', 'AvgTalkDuration',\n",
       "       'Satisfaction rating'],\n",
       "      dtype='object')"
      ]
     },
     "execution_count": 19,
     "metadata": {},
     "output_type": "execute_result"
    }
   ],
   "source": [
    "df.columns"
   ]
  },
  {
   "cell_type": "code",
   "execution_count": 20,
   "id": "330f8ba6-41b9-4bd5-8b01-9f7bec82cd4e",
   "metadata": {},
   "outputs": [
    {
     "data": {
      "text/plain": [
       "0"
      ]
     },
     "execution_count": 20,
     "metadata": {},
     "output_type": "execute_result"
    }
   ],
   "source": [
    "df.duplicated().sum()"
   ]
  },
  {
   "cell_type": "code",
   "execution_count": 22,
   "id": "19b13f36-5bfa-4fe0-aa89-63e84631c80e",
   "metadata": {},
   "outputs": [
    {
     "name": "stdout",
     "output_type": "stream",
     "text": [
      "Total Answered Calls: 4054\n"
     ]
    }
   ],
   "source": [
    "answered_count = df[df[\"Answered (Y/N)\"] == \"Y\"].shape[0]\n",
    "print(\"Total Answered Calls:\", answered_count)\n"
   ]
  },
  {
   "cell_type": "code",
   "execution_count": null,
   "id": "e8c9ed34-8421-4974-a702-25b1ada1cfa5",
   "metadata": {},
   "outputs": [],
   "source": [
    "insight:\n",
    "this calculation shows how many calls were successfully answered from all call records.\n"
   ]
  },
  {
   "cell_type": "code",
   "execution_count": 23,
   "id": "49dd76f9-f3b6-498d-a108-893b013a108c",
   "metadata": {},
   "outputs": [
    {
     "data": {
      "text/plain": [
       "4054"
      ]
     },
     "execution_count": 23,
     "metadata": {},
     "output_type": "execute_result"
    }
   ],
   "source": [
    "answered_count"
   ]
  },
  {
   "cell_type": "code",
   "execution_count": 24,
   "id": "2de9b3da-55b6-4756-a869-3ad7dad3bd2b",
   "metadata": {},
   "outputs": [
    {
     "name": "stdout",
     "output_type": "stream",
     "text": [
      "Total Resolved Calls: 3646\n"
     ]
    }
   ],
   "source": [
    "resolved_count = df[df[\"Resolved\"] == \"Y\"].shape[0]\n",
    "print(\"Total Resolved Calls:\", resolved_count)\n"
   ]
  },
  {
   "cell_type": "code",
   "execution_count": null,
   "id": "0fed182c-5194-4733-821c-87821a6345a8",
   "metadata": {},
   "outputs": [],
   "source": [
    "insight:\n",
    "the number of calls successfully resolved is calculated by filtering the dataset where the \"Resolved\" column is marked as\n",
    "\"Y\". This gives an accurate count of all resolved calls.\n",
    "\n"
   ]
  },
  {
   "cell_type": "code",
   "execution_count": 25,
   "id": "14bde397-eca0-4232-a539-b3c12203e5de",
   "metadata": {},
   "outputs": [
    {
     "data": {
      "text/plain": [
       "Index(['Call Id', 'Agent', 'Date', 'Time', 'Topic', 'Answered (Y/N)',\n",
       "       'Resolved', 'Speed of answer in seconds', 'AvgTalkDuration',\n",
       "       'Satisfaction rating'],\n",
       "      dtype='object')"
      ]
     },
     "execution_count": 25,
     "metadata": {},
     "output_type": "execute_result"
    }
   ],
   "source": [
    "df.columns"
   ]
  },
  {
   "cell_type": "markdown",
   "id": "2e38f077-1959-496c-bc22-207256ec22bb",
   "metadata": {},
   "source": [
    "# Total Calls Handled per Agent"
   ]
  },
  {
   "cell_type": "code",
   "execution_count": null,
   "id": "d97e1e47-8215-40c7-8f07-86fb3fe60e6e",
   "metadata": {},
   "outputs": [],
   "source": [
    "How many calls did each agent handle?\n"
   ]
  },
  {
   "cell_type": "code",
   "execution_count": 88,
   "id": "652ee915-2418-4806-bdbf-6dc46d283852",
   "metadata": {},
   "outputs": [
    {
     "name": "stdout",
     "output_type": "stream",
     "text": [
      "Agent\n",
      "Jim        536\n",
      "Dan        523\n",
      "Becky      517\n",
      "Martha     514\n",
      "Greg       502\n",
      "Diane      501\n",
      "Joe        484\n",
      "Stewart    477\n",
      "Name: count, dtype: int64\n"
     ]
    },
    {
     "data": {
      "image/png": "[encoded data removed]",
      "text/plain": [
       "<Figure size 1000x400 with 1 Axes>"
      ]
     },
     "metadata": {},
     "output_type": "display_data"
    }
   ],
   "source": [
    "call_by_agents = df['Agent'].value_counts()\n",
    "print(call_by_agent)\n",
    "\n",
    "plt.figure(figsize=(10,4))\n",
    "sns.barplot(x = call_by_agents.index, y = call_by_agents)\n",
    "plt.title(\"total calls  by agents\", color = 'black', fontsize=14, fontweight='bold', fontstyle='italic')\n",
    "plt.xlabel(\"Agent\")\n",
    "plt.ylabel(\"Call Id\")\n",
    "\n",
    "for i, value in enumerate(call_by_agents.values):\n",
    "    plt.text(i, value + 1,               # position (x, y)\n",
    "             str(value),                # text to show\n",
    "             ha='center',\n",
    "             fontweight='bold',\n",
    "             fontstyle='italic',\n",
    "             color='black',\n",
    "             fontsize=12)\n",
    "plt.show()"
   ]
  },
  {
   "cell_type": "code",
   "execution_count": null,
   "id": "89618b64-33f7-4a47-af88-b6f33617d6fa",
   "metadata": {},
   "outputs": [],
   "source": [
    "insight:\n",
    "the bar chart visualizes the number of calls handled by each agent. This allows us to assess individual agent performance and\n",
    "identify workload distribution. The text labels on the bars show the exact number of calls handled by each agent, \n",
    "making the data easy to interpret."
   ]
  },
  {
   "cell_type": "code",
   "execution_count": null,
   "id": "0e1241bd-7013-42a1-9316-b89111d64ede",
   "metadata": {},
   "outputs": [],
   "source": []
  },
  {
   "cell_type": "markdown",
   "id": "5a18385c-cb33-4f95-aa12-6add3852f1a1",
   "metadata": {},
   "source": [
    "# Answered vs Not Answered Ratio"
   ]
  },
  {
   "cell_type": "code",
   "execution_count": null,
   "id": "5e5eb274-3fe5-4999-bd36-df7bdf9bb804",
   "metadata": {},
   "outputs": [],
   "source": [
    "What is the overall ratio of answered vs not answered calls?\n"
   ]
  },
  {
   "cell_type": "code",
   "execution_count": 37,
   "id": "e47c47ff-87fd-4393-a742-13d48c19c8f1",
   "metadata": {},
   "outputs": [
    {
     "data": {
      "image/png": "[encoded data removed]",
      "text/plain": [
       "<Figure size 100x400 with 1 Axes>"
      ]
     },
     "metadata": {},
     "output_type": "display_data"
    }
   ],
   "source": [
    "plt.figure(figsize=(1,4))\n",
    "sns.countplot(data=df, x = \"Answered (Y/N)\")\n",
    "plt.title(\"answered vs not answered calls\")\n",
    "plt.show()\n",
    "              "
   ]
  },
  {
   "cell_type": "code",
   "execution_count": null,
   "id": "e01d47b0-3b09-4ab1-b110-3822127e90b8",
   "metadata": {},
   "outputs": [],
   "source": [
    "insight:\n",
    "the count plot visualizes the number of calls that were answered (\"Y\") versus those that were not answered (\"N\").\n",
    "This gives a clear comparison of call resolution status, helping to identify areas for improving call response rates.\n",
    "\n"
   ]
  },
  {
   "cell_type": "code",
   "execution_count": null,
   "id": "1d7775b9-cc38-4ac1-a0e8-3938f94c7974",
   "metadata": {},
   "outputs": [],
   "source": []
  },
  {
   "cell_type": "markdown",
   "id": "b3b857a5-9a57-49ce-9801-a26e0118de46",
   "metadata": {},
   "source": [
    "# Average Speed of Answer by Agent"
   ]
  },
  {
   "cell_type": "code",
   "execution_count": 49,
   "id": "e9289d23-0de4-471d-bc85-6e39a3881b24",
   "metadata": {},
   "outputs": [
    {
     "name": "stdout",
     "output_type": "stream",
     "text": [
      "Agent\n",
      "Joe        70.99\n",
      "Martha     69.49\n",
      "Greg       68.44\n",
      "Dan        67.28\n",
      "Jim        66.34\n",
      "Diane      66.27\n",
      "Stewart    66.18\n",
      "Becky      65.33\n",
      "Name: Speed of answer in seconds, dtype: float64\n"
     ]
    },
    {
     "data": {
      "image/png": "[encoded data removed]",
      "text/plain": [
       "<Figure size 600x400 with 1 Axes>"
      ]
     },
     "metadata": {},
     "output_type": "display_data"
    }
   ],
   "source": [
    "avg_speed = df.groupby('Agent')['Speed of answer in seconds'].mean().sort_values(ascending=False).round(2)\n",
    "print(avg_speed)\n",
    "\n",
    "plt.figure(figsize=(6,4))\n",
    "sns.histplot(x= avg_speed.index, y = avg_speed)\n",
    "plt.title(\"average speed amswer by agent\")\n",
    "plt.xlabel(\"Agent\")\n",
    "plt.ylabel(\"Speed of answer in seconds\")\n",
    "plt.show()"
   ]
  },
  {
   "cell_type": "code",
   "execution_count": null,
   "id": "b9f708a4-bdfe-47b9-8b5c-0a2e03575a6f",
   "metadata": {},
   "outputs": [],
   "source": [
    "insight:\n",
    "the bar chart represents the average speed of answer by each agent, calculated by grouping the dataset by \"Agent\" \n",
    "and averaging the \"Speed of answer in seconds\". The chart helps to evaluate the efficiency of agents in answering calls, with a\n",
    "lower speed indicating faster response times."
   ]
  },
  {
   "cell_type": "code",
   "execution_count": null,
   "id": "92006442-d5c0-42b7-87d2-78cd23c5cf30",
   "metadata": {},
   "outputs": [],
   "source": []
  },
  {
   "cell_type": "markdown",
   "id": "e1de5b02-4679-4da1-9ced-53ada52a109a",
   "metadata": {},
   "source": [
    "# Trend of Calls over Time"
   ]
  },
  {
   "cell_type": "code",
   "execution_count": null,
   "id": "396f4433-3dca-445e-9f6c-2e193a46bdc7",
   "metadata": {},
   "outputs": [],
   "source": [
    "Are calls increasing daily?"
   ]
  },
  {
   "cell_type": "code",
   "execution_count": 50,
   "id": "f42d697d-21cc-40da-a843-fb11cea1719e",
   "metadata": {},
   "outputs": [
    {
     "data": {
      "text/plain": [
       "Index(['Call Id', 'Agent', 'Date', 'Time', 'Topic', 'Answered (Y/N)',\n",
       "       'Resolved', 'Speed of answer in seconds', 'AvgTalkDuration',\n",
       "       'Satisfaction rating'],\n",
       "      dtype='object')"
      ]
     },
     "execution_count": 50,
     "metadata": {},
     "output_type": "execute_result"
    }
   ],
   "source": [
    "df.columns"
   ]
  },
  {
   "cell_type": "code",
   "execution_count": 55,
   "id": "1e61f6d0-ac45-42f9-8408-617db5c1daba",
   "metadata": {},
   "outputs": [
    {
     "data": {
      "text/plain": [
       "<Axes: title={'center': 'call valume trend'}, xlabel='Date'>"
      ]
     },
     "execution_count": 55,
     "metadata": {},
     "output_type": "execute_result"
    },
    {
     "data": {
      "image/png": "[encoded data removed]",
      "text/plain": [
       "<Figure size 640x480 with 1 Axes>"
      ]
     },
     "metadata": {},
     "output_type": "display_data"
    }
   ],
   "source": [
    "df['Date'] = pd.to_datetime(df['Date'])\n",
    "calls_by_date = df['Date'].value_counts().sort_index()\n",
    "\n",
    "calls_by_date.plot(kind='line',title='call valume trend')\n"
   ]
  },
  {
   "cell_type": "code",
   "execution_count": null,
   "id": "f7bf08e7-fd55-45d4-b99c-53dc962680eb",
   "metadata": {},
   "outputs": [],
   "source": [
    "insight:\n",
    "the line chart illustrates the trend of call volumes over time, based on the \"Date\" column. By visualizing the frequency of \n",
    "calls per date, this chart enables us to identify peak times and periods \n",
    "of high or low call activity."
   ]
  },
  {
   "cell_type": "markdown",
   "id": "481d4e7b-ae21-4453-82e9-8082b4f0a3c5",
   "metadata": {},
   "source": [
    "# Most Common Topics"
   ]
  },
  {
   "cell_type": "code",
   "execution_count": 58,
   "id": "af641db5-7b95-4a62-9679-b0a7fd5bf2ca",
   "metadata": {},
   "outputs": [
    {
     "name": "stdout",
     "output_type": "stream",
     "text": [
      "Topic\n",
      "Streaming            847\n",
      "Payment related      818\n",
      "Technical Support    805\n",
      "Admin Support        795\n",
      "Contract related     789\n",
      "Name: count, dtype: int64\n"
     ]
    }
   ],
   "source": [
    "topic_count = df['Topic'].value_counts()\n",
    "print(topic_count)"
   ]
  },
  {
   "cell_type": "code",
   "execution_count": null,
   "id": "b0bc0c79-1ce7-431b-a4c5-7a993c5db280",
   "metadata": {},
   "outputs": [],
   "source": [
    "insight:\n",
    "the value counts of the \"Topic\" column reveal the distribution of call topics in the dataset. This analysis helps in identifying\n",
    "recurring issues or concerns, allowing for targeted improvements or resource allocation based\n",
    "on the most frequent topics"
   ]
  },
  {
   "cell_type": "code",
   "execution_count": 59,
   "id": "bc67a15f-bb22-4c0f-8bd1-37a336c76255",
   "metadata": {},
   "outputs": [
    {
     "data": {
      "text/plain": [
       "Index(['Call Id', 'Agent', 'Date', 'Time', 'Topic', 'Answered (Y/N)',\n",
       "       'Resolved', 'Speed of answer in seconds', 'AvgTalkDuration',\n",
       "       'Satisfaction rating'],\n",
       "      dtype='object')"
      ]
     },
     "execution_count": 59,
     "metadata": {},
     "output_type": "execute_result"
    }
   ],
   "source": [
    "df.columns"
   ]
  },
  {
   "cell_type": "markdown",
   "id": "e712f071-a3e5-4697-9cf5-cd6c7fd484cb",
   "metadata": {},
   "source": [
    "# satisfaction Rating by Agent"
   ]
  },
  {
   "cell_type": "code",
   "execution_count": 65,
   "id": "ac567f42-9381-4a16-897f-7cbae5994030",
   "metadata": {},
   "outputs": [
    {
     "name": "stdout",
     "output_type": "stream",
     "text": [
      "Agent\n",
      "Martha     3.47\n",
      "Dan        3.45\n",
      "Diane      3.41\n",
      "Greg       3.40\n",
      "Stewart    3.40\n",
      "Jim        3.39\n",
      "Becky      3.37\n",
      "Joe        3.33\n",
      "Name: Satisfaction rating, dtype: float64\n"
     ]
    },
    {
     "data": {
      "image/png": "[encoded data removed]",
      "text/plain": [
       "<Figure size 1000x400 with 1 Axes>"
      ]
     },
     "metadata": {},
     "output_type": "display_data"
    }
   ],
   "source": [
    "satisfy_agent = df.groupby('Agent')['Satisfaction rating'].mean().sort_values(ascending=False).round(2)\n",
    "print(satisfy_agent)\n",
    "\n",
    "plt.figure(figsize=(10,4))\n",
    "sns.barplot(x= satisfy_agent.index, y = satisfy_agent)\n",
    "plt.title(\"average of the rating  by agent\")\n",
    "plt.xlabel(\"Agent\")\n",
    "plt.ylabel('Satisfaction rating')\n",
    "plt.show()"
   ]
  },
  {
   "cell_type": "code",
   "execution_count": null,
   "id": "ad82a817-f082-4e2c-9d82-4eb9e4d76035",
   "metadata": {},
   "outputs": [],
   "source": [
    "insight:\n",
    "the bar chart visualizes the average satisfaction ratings for each agent, calculated by grouping the dataset by \"Agent\" \n",
    "and averaging the \"Satisfaction rating\". This analysis enables us to evaluate agent performance,\n",
    "identifying high-performing agents who consistently \n",
    "receive better ratings."
   ]
  },
  {
   "cell_type": "markdown",
   "id": "d3449540-1943-47d9-a734-9d4b4bd82eff",
   "metadata": {},
   "source": [
    "# Calls Resolved vs Not Resolved"
   ]
  },
  {
   "cell_type": "code",
   "execution_count": 66,
   "id": "9ee32d0a-74d8-469c-a98c-de9642096707",
   "metadata": {},
   "outputs": [
    {
     "data": {
      "text/plain": [
       "Index(['Call Id', 'Agent', 'Date', 'Time', 'Topic', 'Answered (Y/N)',\n",
       "       'Resolved', 'Speed of answer in seconds', 'AvgTalkDuration',\n",
       "       'Satisfaction rating'],\n",
       "      dtype='object')"
      ]
     },
     "execution_count": 66,
     "metadata": {},
     "output_type": "execute_result"
    }
   ],
   "source": [
    "df.columns"
   ]
  },
  {
   "cell_type": "code",
   "execution_count": 67,
   "id": "8d5e0912-def0-4d46-a283-6811844e3f7f",
   "metadata": {},
   "outputs": [
    {
     "data": {
      "text/plain": [
       "Text(0.5, 1.0, 'resolved vs not resolved')"
      ]
     },
     "execution_count": 67,
     "metadata": {},
     "output_type": "execute_result"
    },
    {
     "data": {
      "image/png": "[encoded data removed]",
      "text/plain": [
       "<Figure size 640x480 with 1 Axes>"
      ]
     },
     "metadata": {},
     "output_type": "display_data"
    }
   ],
   "source": [
    "sns.countplot(data=df, x= 'Resolved')\n",
    "plt.title(\"resolved vs not resolved\")"
   ]
  },
  {
   "cell_type": "code",
   "execution_count": null,
   "id": "180c6ea2-e045-4724-ba42-ebd821d04518",
   "metadata": {},
   "outputs": [],
   "source": [
    "insight:\n",
    "the count plot shows the distribution of resolved and unresolved calls, highlighting the resolution rate within the dataset.\n",
    "A higher count of resolved calls suggests an efficient resolution process, whereas unresolved calls might indicate areas needing improvement.\n",
    "\n"
   ]
  },
  {
   "cell_type": "markdown",
   "id": "f7bd727b-1fd2-4af4-ad5c-5e412c233b43",
   "metadata": {},
   "source": [
    "# Average Talk Duration per Topic"
   ]
  },
  {
   "cell_type": "code",
   "execution_count": 76,
   "id": "9a3ae25a-1257-4c72-b8cc-ec235bcbad91",
   "metadata": {},
   "outputs": [
    {
     "data": {
      "text/plain": [
       "<Axes: xlabel='Resolved', ylabel='Agent'>"
      ]
     },
     "execution_count": 76,
     "metadata": {},
     "output_type": "execute_result"
    },
    {
     "data": {
      "image/png": "[encoded data removed]",
      "text/plain": [
       "<Figure size 640x480 with 2 Axes>"
      ]
     },
     "metadata": {},
     "output_type": "display_data"
    }
   ],
   "source": [
    "pivot = df.pivot_table(values='Satisfaction rating', index='Agent', columns='Resolved', aggfunc='mean')\n",
    "sns.heatmap(pivot, annot=True, cmap = 'coolwarm')"
   ]
  },
  {
   "cell_type": "code",
   "execution_count": null,
   "id": "a75ff28d-0faa-46b6-8019-6ba323a400d8",
   "metadata": {},
   "outputs": [],
   "source": [
    "insight:\n",
    "the heatmap represents the average satisfaction ratings for each agent, segmented by the resolution status of calls\n",
    "(resolved or not). By visualizing these ratings, it helps to understand the relationship between call resolution and customer satisfaction,\n",
    "highlighting how effective agents are in delivering satisfactory outcomes foresolved vs. unresolved calls."
   ]
  },
  {
   "cell_type": "code",
   "execution_count": null,
   "id": "8fed06c2-11d0-4df1-9c02-335f480fe258",
   "metadata": {},
   "outputs": [],
   "source": []
  },
  {
   "cell_type": "code",
   "execution_count": null,
   "id": "de779078-f24f-49ef-9cf7-e8b3674f5850",
   "metadata": {},
   "outputs": [],
   "source": [
    "Conclusion:\n",
    "\n",
    "The heatmap illustrates that agents tend to achieve higher customer satisfaction ratings on resolved calls compared to\n",
    "unresolved calls, which suggests that effective resolution directly correlates with increased customer satisfaction.\n",
    "\n",
    "Agents with consistently lower satisfaction ratings for unresolved calls may require additional training or process optimization to\n",
    "enhance their problem-solving skills and customer interaction techniques.\n",
    "\n",
    "Furthermore, the heatmap enables the identification of agents who consistently perform well across both resolved and unresolved call categories.\n",
    "These agents can be recognized as top performers, and their approaches can serve as best practices for others.\n",
    "\n",
    "Overall, the data emphasizes the importance of call resolution in driving customer satisfaction and highlights areas for improvement in agent performance.\n",
    "\n"
   ]
  },
  {
   "cell_type": "code",
   "execution_count": null,
   "id": "ea124eb2-4a9c-485c-abb4-9914a8922fec",
   "metadata": {},
   "outputs": [],
   "source": []
  }
 ],
 "metadata": {
  "kernelspec": {
   "display_name": "Python 3 (ipykernel)",
   "language": "python",
   "name": "python3"
  },
  "language_info": {
   "codemirror_mode": {
    "name": "ipython",
    "version": 3
   },
   "file_extension": ".py",
   "mimetype": "text/x-python",
   "name": "python",
   "nbconvert_exporter": "python",
   "pygments_lexer": "ipython3",
   "version": "3.12.7"
  }
 },
 "nbformat": 4,
 "nbformat_minor": 5
}
